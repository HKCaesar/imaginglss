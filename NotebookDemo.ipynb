{
 "metadata": {
  "name": "",
  "signature": "sha256:2a749bd863ade2dca37082b47bcc0bd9f2bff0a246f3f007a31ad215f8d7f49c"
 },
 "nbformat": 3,
 "nbformat_minor": 0,
 "worksheets": [
  {
   "cells": [
    {
     "cell_type": "code",
     "collapsed": false,
     "input": [
      "%pylab inline"
     ],
     "language": "python",
     "metadata": {},
     "outputs": [
      {
       "output_type": "stream",
       "stream": "stdout",
       "text": [
        "Populating the interactive namespace from numpy and matplotlib\n"
       ]
      }
     ],
     "prompt_number": 9
    },
    {
     "cell_type": "code",
     "collapsed": false,
     "input": [
      "from model.datarelease import DataRelease\n",
      "dr = DataRelease(root='/global/project/projectdirs/cosmo/work/decam/release/edr/',\n",
      "                 cacheroot='/global/scratch2/sd/yfeng1/desicache')"
     ],
     "language": "python",
     "metadata": {},
     "outputs": [],
     "prompt_number": 4
    },
    {
     "cell_type": "heading",
     "level": 2,
     "metadata": {},
     "source": [
      "Overview of the data release"
     ]
    },
    {
     "cell_type": "code",
     "collapsed": false,
     "input": [
      "print dr.observed_area"
     ],
     "language": "python",
     "metadata": {},
     "outputs": [
      {
       "output_type": "stream",
       "stream": "stdout",
       "text": [
        "33.3301443427\n"
       ]
      }
     ],
     "prompt_number": 5
    },
    {
     "cell_type": "code",
     "collapsed": false,
     "input": [
      "print dr.observed_range"
     ],
     "language": "python",
     "metadata": {},
     "outputs": [
      {
       "output_type": "stream",
       "stream": "stdout",
       "text": [
        "ObservedRange(ramin=239.91501416430594, ramax=245.1117318435754, decmin=5.125, decmax=11.875)\n"
       ]
      }
     ],
     "prompt_number": 6
    },
    {
     "cell_type": "code",
     "collapsed": false,
     "input": [
      "print sorted(dr.catalogue.dtype.names)"
     ],
     "language": "python",
     "metadata": {},
     "outputs": [
      {
       "output_type": "stream",
       "stream": "stdout",
       "text": [
        "['BLOB', 'BRICKID', 'BRICKNAME', 'BRICK_PRIMARY', 'DEC', 'DECAM_FLUX', 'DECAM_FLUX_IVAR', 'DECAM_NEXP', 'DEC_IVAR', 'EXTINCTION', 'FRACDEV', 'FRACDEV_IVAR', 'OBJID', 'RA', 'RA_IVAR', 'SDSS_CAMCOL', 'SDSS_CMODELFLUX', 'SDSS_CMODELFLUX_IVAR', 'SDSS_DEC', 'SDSS_EXTINCTION', 'SDSS_FIELD', 'SDSS_FLAGS', 'SDSS_MODELFLUX', 'SDSS_MODELFLUX_IVAR', 'SDSS_OBJC_FLAGS', 'SDSS_OBJC_TYPE', 'SDSS_OBJID', 'SDSS_PSFFLUX', 'SDSS_PSFFLUX_IVAR', 'SDSS_RA', 'SDSS_RUN', 'SHAPEDEV_E1', 'SHAPEDEV_E1_IVAR', 'SHAPEDEV_E2', 'SHAPEDEV_E2_IVAR', 'SHAPEDEV_R', 'SHAPEDEV_R_IVAR', 'SHAPEEXP_E1', 'SHAPEEXP_E1_IVAR', 'SHAPEEXP_E2', 'SHAPEEXP_E2_IVAR', 'SHAPEEXP_R', 'SHAPEEXP_R_IVAR', 'TYPE', 'X', 'Y']\n"
       ]
      }
     ],
     "prompt_number": 14
    },
    {
     "cell_type": "heading",
     "level": 3,
     "metadata": {},
     "source": [
      "Primary Objects"
     ]
    },
    {
     "cell_type": "code",
     "collapsed": false,
     "input": [
      "sel = dr.catalogue['BRICK_PRIMARY'] == 1\n",
      "RA = dr.catalogue['RA'][sel]\n",
      "DEC = dr.catalogue['DEC'][sel]"
     ],
     "language": "python",
     "metadata": {},
     "outputs": [],
     "prompt_number": 15
    },
    {
     "cell_type": "code",
     "collapsed": false,
     "input": [
      "_=hist2d(RA, DEC, bins=(40, 40))\n",
      "colorbar()\n",
      "title('number counts of primary objects per pixel')"
     ],
     "language": "python",
     "metadata": {},
     "outputs": [
      {
       "metadata": {},
       "output_type": "pyout",
       "prompt_number": 24,
       "text": [
        "<matplotlib.text.Text at 0x47fe810>"
       ]
      },
      {
       "metadata": {},
       "output_type": "display_data",
       "png": "[encoded data removed]",
       "text": [
        "<matplotlib.figure.Figure at 0x22ddd90>"
       ]
      }
     ],
     "prompt_number": 24
    },
    {
     "cell_type": "code",
     "collapsed": false,
     "input": [
      "_= hist(22.5 - 2.5 * numpy.log10(dr.catalogue['DECAM_FLUX'][sel]), range=(15, 26), cumulative=True, log=True)\n",
      "xlabel('observed mag')\n",
      "ylabel('counts < mag')"
     ],
     "language": "python",
     "metadata": {},
     "outputs": [
      {
       "metadata": {},
       "output_type": "pyout",
       "prompt_number": 31,
       "text": [
        "<matplotlib.text.Text at 0x5068610>"
       ]
      },
      {
       "metadata": {},
       "output_type": "display_data",
       "png": "[encoded data removed]",
       "text": [
        "<matplotlib.figure.Figure at 0x504d250>"
       ]
      }
     ],
     "prompt_number": 31
    },
    {
     "cell_type": "code",
     "collapsed": false,
     "input": [],
     "language": "python",
     "metadata": {},
     "outputs": []
    }
   ],
   "metadata": {}
  }
 ]
}